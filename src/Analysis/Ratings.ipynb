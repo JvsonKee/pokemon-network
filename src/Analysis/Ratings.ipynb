{
 "cells": [
  {
   "cell_type": "code",
   "execution_count": 7,
   "metadata": {},
   "outputs": [],
   "source": [
    "import pandas as pd\n",
    "import networkx as nx\n",
    "import matplotlib.pyplot as plt\n",
    "from networkx.algorithms import bipartite, community\n"
   ]
  },
  {
   "cell_type": "code",
   "execution_count": 8,
   "metadata": {},
   "outputs": [],
   "source": [
    "# Load nodes and edge list\n",
    "pokemon_df = pd.read_csv('../../datasets/clean/pokemon_nodes.csv')\n",
    "episodes_df = pd.read_csv('../../datasets/clean/episode_nodes.csv')\n",
    "edge_df = pd.read_csv('../../datasets/clean/edge_list.csv')\n",
    "\n",
    "# Filter high-rated episodes (rating ≥ 8.5)\n",
    "high_rated_eps = episodes_df[episodes_df['rating'] >= 8.5]\n",
    "high_rated_ep_ids = set(high_rated_eps['Id'])\n",
    "pokemon_ids = set(pokemon_df['Id'])\n",
    "\n",
    "# Filter edge list for connections to high-rated episodes\n",
    "filtered_edges = edge_df[\n",
    "    (edge_df['Source'].isin(pokemon_ids) & edge_df['Target'].isin(high_rated_ep_ids)) |\n",
    "    (edge_df['Target'].isin(pokemon_ids) & edge_df['Source'].isin(high_rated_ep_ids))\n",
    "]\n"
   ]
  },
  {
   "cell_type": "code",
   "execution_count": 9,
   "metadata": {},
   "outputs": [
    {
     "name": "stdout",
     "output_type": "stream",
     "text": [
      "Filtered Graph: 931 nodes, 1079 edges\n"
     ]
    }
   ],
   "source": [
    "G = nx.Graph()\n",
    "G.add_nodes_from(pokemon_ids, bipartite=0, type='pokemon')\n",
    "G.add_nodes_from(high_rated_ep_ids, bipartite=1, type='episode')\n",
    "G.add_edges_from(filtered_edges.values)\n",
    "\n",
    "print(f\"Filtered Graph: {G.number_of_nodes()} nodes, {G.number_of_edges()} edges\")\n"
   ]
  },
  {
   "cell_type": "code",
   "execution_count": 10,
   "metadata": {},
   "outputs": [
    {
     "name": "stdout",
     "output_type": "stream",
     "text": [
      "\n",
      "Average Degree Centrality: 0.0025\n",
      "Average Betweenness Centrality: 0.0005\n",
      "Average Closeness Centrality: 0.0697\n",
      "\n",
      "Assortativity Coefficient: -0.4300\n",
      "\n",
      "Graph Degree Stats:\n",
      "Mean Degree: 2.32\n",
      "Max Degree: 200\n",
      "Min Degree: 0\n",
      "Number of Nodes: 931\n",
      "Number of Edges: 1079\n"
     ]
    }
   ],
   "source": [
    "# --- Split node sets ---\n",
    "pokemon_nodes = {n for n, d in G.nodes(data=True) if d['type'] == 'pokemon'}\n",
    "episode_nodes = set(G) - pokemon_nodes\n",
    "\n",
    "# --- Centralities ---\n",
    "deg_cent = nx.degree_centrality(G)\n",
    "btw_cent = nx.betweenness_centrality(G)\n",
    "clo_cent = nx.closeness_centrality(G)\n",
    "\n",
    "# --- Average centrality values ---\n",
    "avg_deg_cent = sum(deg_cent.values()) / len(deg_cent)\n",
    "avg_btw_cent = sum(btw_cent.values()) / len(btw_cent)\n",
    "avg_clo_cent = sum(clo_cent.values()) / len(clo_cent)\n",
    "\n",
    "print(f\"\\nAverage Degree Centrality: {avg_deg_cent:.4f}\")\n",
    "print(f\"Average Betweenness Centrality: {avg_btw_cent:.4f}\")\n",
    "print(f\"Average Closeness Centrality: {avg_clo_cent:.4f}\")\n",
    "\n",
    "# --- Assortativity ---\n",
    "assortativity = nx.degree_assortativity_coefficient(G)\n",
    "print(f\"\\nAssortativity Coefficient: {assortativity:.4f}\")\n",
    "\n",
    "# --- Degree stats ---\n",
    "degrees = [deg for n, deg in G.degree()]\n",
    "mean_deg = sum(degrees) / len(degrees)\n",
    "max_deg = max(degrees)\n",
    "min_deg = min(degrees)\n",
    "\n",
    "print(f\"\\nGraph Degree Stats:\")\n",
    "print(f\"Mean Degree: {mean_deg:.2f}\")\n",
    "print(f\"Max Degree: {max_deg}\")\n",
    "print(f\"Min Degree: {min_deg}\")\n",
    "print(f\"Number of Nodes: {G.number_of_nodes()}\")\n",
    "print(f\"Number of Edges: {G.number_of_edges()}\")\n",
    "\n"
   ]
  },
  {
   "cell_type": "code",
   "execution_count": 11,
   "metadata": {},
   "outputs": [
    {
     "name": "stdout",
     "output_type": "stream",
     "text": [
      "Found 498 communities\n"
     ]
    }
   ],
   "source": [
    "# Project onto Pokemon\n",
    "pokemon_proj = bipartite.projected_graph(G, pokemon_nodes)\n",
    "\n",
    "# Community Detection\n",
    "communities = list(community.greedy_modularity_communities(pokemon_proj))\n",
    "print(f\"Found {len(communities)} communities\")\n",
    "\n",
    "# Optional: mapping community labels\n",
    "community_map = {}\n",
    "for i, comm in enumerate(communities):\n",
    "    for node in comm:\n",
    "        community_map[node] = i\n"
   ]
  },
  {
   "cell_type": "code",
   "execution_count": 12,
   "metadata": {},
   "outputs": [
    {
     "name": "stdout",
     "output_type": "stream",
     "text": [
      "Largest CC: 437 nodes\n"
     ]
    }
   ],
   "source": [
    "# Largest connected component of original bipartite graph\n",
    "lcc = max(nx.connected_components(G), key=len)\n",
    "G_lcc = G.subgraph(lcc).copy()\n",
    "print(f\"Largest CC: {G_lcc.number_of_nodes()} nodes\")\n"
   ]
  }
 ],
 "metadata": {
  "kernelspec": {
   "display_name": "base",
   "language": "python",
   "name": "python3"
  },
  "language_info": {
   "codemirror_mode": {
    "name": "ipython",
    "version": 3
   },
   "file_extension": ".py",
   "mimetype": "text/x-python",
   "name": "python",
   "nbconvert_exporter": "python",
   "pygments_lexer": "ipython3",
   "version": "3.12.7"
  }
 },
 "nbformat": 4,
 "nbformat_minor": 2
}
